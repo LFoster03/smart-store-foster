{
 "cells": [
  {
   "cell_type": "markdown",
   "id": "2bd37ddb",
   "metadata": {},
   "source": [
    "# Verify Spark Works"
   ]
  },
  {
   "cell_type": "code",
   "execution_count": 1,
   "id": "6f2c1c53",
   "metadata": {},
   "outputs": [
    {
     "name": "stderr",
     "output_type": "stream",
     "text": [
      "25/04/08 12:56:00 WARN Utils: Your hostname, Lindsays-Computer.local resolves to a loopback address: 127.0.0.1; using 10.48.244.63 instead (on interface en0)\n",
      "25/04/08 12:56:00 WARN Utils: Set SPARK_LOCAL_IP if you need to bind to another address\n",
      "Setting default log level to \"WARN\".\n",
      "To adjust logging level use sc.setLogLevel(newLevel). For SparkR, use setLogLevel(newLevel).\n",
      "25/04/08 12:56:00 WARN NativeCodeLoader: Unable to load native-hadoop library for your platform... using builtin-java classes where applicable\n",
      "25/04/08 12:56:01 WARN Utils: Service 'SparkUI' could not bind on port 4040. Attempting port 4041.\n"
     ]
    },
    {
     "name": "stdout",
     "output_type": "stream",
     "text": [
      "<pyspark.sql.session.SparkSession object at 0x10a9197f0>\n"
     ]
    }
   ],
   "source": [
    "# Verify Spark works\n",
    "from pyspark.sql import SparkSession\n",
    "spark = SparkSession.builder.appName(\"SmartSales\").getOrCreate()\n",
    "print(spark)"
   ]
  },
  {
   "cell_type": "code",
   "execution_count": 2,
   "id": "100d4614",
   "metadata": {},
   "outputs": [
    {
     "name": "stdout",
     "output_type": "stream",
     "text": [
      "<pyspark.sql.session.SparkSession object at 0x10a9197f0>\n"
     ]
    }
   ],
   "source": [
    "# Verify Spark works\n",
    "from pyspark.sql import SparkSession\n",
    "spark = SparkSession.builder.appName(\"SmartSales\").getOrCreate()\n",
    "print(spark)"
   ]
  },
  {
   "cell_type": "markdown",
   "id": "1cf0b058",
   "metadata": {},
   "source": [
    "# Ensure Driver Path"
   ]
  },
  {
   "cell_type": "code",
   "execution_count": 3,
   "id": "1b1a132d",
   "metadata": {},
   "outputs": [
    {
     "name": "stdout",
     "output_type": "stream",
     "text": [
      "JDBC Driver path: /Users/lindsayfoster/Projects/smart-store-foster/lib/sqlite-jdbc-3.49.1.0.jar\n"
     ]
    }
   ],
   "source": [
    "jdbc_driver_path = \"/Users/lindsayfoster/Projects/smart-store-foster/lib/sqlite-jdbc-3.49.1.0.jar\"\n",
    "print(f\"JDBC Driver path: {jdbc_driver_path}\")\n"
   ]
  },
  {
   "cell_type": "markdown",
   "id": "0790ce94",
   "metadata": {},
   "source": [
    "# Check Driver Path in Spark Session"
   ]
  },
  {
   "cell_type": "code",
   "execution_count": 4,
   "id": "b2393c20",
   "metadata": {},
   "outputs": [
    {
     "name": "stdout",
     "output_type": "stream",
     "text": [
      "JDBC driver loaded\n"
     ]
    },
    {
     "name": "stderr",
     "output_type": "stream",
     "text": [
      "25/04/08 12:56:01 WARN SparkSession: Using an existing Spark session; only runtime SQL configurations will take effect.\n"
     ]
    }
   ],
   "source": [
    "from pyspark.sql import SparkSession\n",
    "\n",
    "# Path to the SQLite JDBC driver JAR\n",
    "jdbc_driver_path = \"/Users/lindsayfoster/Projects/smart-store-foster/lib/sqlite-jdbc-3.49.1.0.jar\"\n",
    "\n",
    "# Start the Spark session with the JDBC driver\n",
    "spark = SparkSession.builder \\\n",
    "    .appName(\"SmartSales\") \\\n",
    "    .config(\"spark.jars\", jdbc_driver_path) \\\n",
    "    .config(\"spark.driver.extraClassPath\", jdbc_driver_path) \\\n",
    "    .getOrCreate()\n",
    "\n",
    "# Check if the driver is loaded\n",
    "print(\"JDBC driver loaded\")\n"
   ]
  },
  {
   "cell_type": "code",
   "execution_count": 5,
   "id": "e49e03bb",
   "metadata": {},
   "outputs": [
    {
     "name": "stdout",
     "output_type": "stream",
     "text": [
      "True\n"
     ]
    }
   ],
   "source": [
    "jdbc_url = \"jdbc:sqlite:/Users/lindsayfoster/Projects/smart-store-foster/data/dw/smart_sales.db\"\n",
    "\n",
    "# Check if the file exists in your file system\n",
    "import os\n",
    "print(os.path.exists('/Users/lindsayfoster/Projects/smart-store-foster/data/dw/smart_sales.db'))\n"
   ]
  },
  {
   "cell_type": "code",
   "execution_count": 6,
   "id": "c16068ca",
   "metadata": {},
   "outputs": [],
   "source": [
    "spark = SparkSession.builder \\\n",
    "    .appName(\"SmartSales\") \\\n",
    "    .config(\"spark.jars\", jdbc_driver_path) \\\n",
    "    .config(\"spark.driver.extraClassPath\", jdbc_driver_path) \\\n",
    "    .getOrCreate()\n"
   ]
  },
  {
   "cell_type": "markdown",
   "id": "57f31798",
   "metadata": {},
   "source": [
    "# Use Legacy Time Parser Policy"
   ]
  },
  {
   "cell_type": "code",
   "execution_count": 7,
   "id": "929e42d9",
   "metadata": {},
   "outputs": [],
   "source": [
    "from pyspark.sql import SparkSession\n",
    "\n",
    "# Start a Spark session with legacy time parser policy\n",
    "spark = SparkSession.builder \\\n",
    "    .appName(\"SmartSales\") \\\n",
    "    .config(\"spark.sql.legacy.timeParserPolicy\", \"LEGACY\") \\\n",
    "    .getOrCreate()\n",
    "\n",
    "# Continue with your existing logic to load the data, filter, etc.\n"
   ]
  },
  {
   "cell_type": "code",
   "execution_count": 8,
   "id": "1619d4d6",
   "metadata": {},
   "outputs": [],
   "source": [
    "# Configure Spark to use the legacy time parser policy\n",
    "spark.conf.set(\"spark.sql.legacy.timeParserPolicy\", \"LEGACY\")\n"
   ]
  },
  {
   "cell_type": "markdown",
   "id": "deb95880",
   "metadata": {},
   "source": [
    "# Display Sales Table"
   ]
  },
  {
   "cell_type": "code",
   "execution_count": 9,
   "id": "6ac1866f",
   "metadata": {},
   "outputs": [
    {
     "name": "stdout",
     "output_type": "stream",
     "text": [
      "   TransactionID SaleDate  CustomerID  ProductID  StoreID  CampaignID  \\\n",
      "0            550   1/6/24        1008        102      404           0   \n",
      "1            551   1/6/24        1009        105      403           0   \n",
      "2            552  1/16/24        1004        107      404           0   \n",
      "3            556  1/29/24        1009        104      403           0   \n",
      "4            558   2/6/24        1002        102      402           0   \n",
      "\n",
      "   SaleAmount  DiscountPercent PaymentType  \n",
      "0       39.10                5      Credit  \n",
      "1       19.78               10       Debit  \n",
      "2      335.10                0       Debit  \n",
      "3      172.40                0        Cash  \n",
      "4      312.80                5        Cash  \n"
     ]
    }
   ],
   "source": [
    "# Import libraries\n",
    "import sqlite3\n",
    "import pandas as pd\n",
    "\n",
    "# Establish a connection to the SQLite database\n",
    "conn = sqlite3.connect('/Users/lindsayfoster/Projects/smart-store-foster/data/dw/smart_sales.db')\n",
    "\n",
    "# Create a cursor object to interact with the database\n",
    "cursor = conn.cursor()\n",
    "\n",
    "# Query to retrieve all records from the 'sales' table\n",
    "query = \"SELECT * FROM sales;\"\n",
    "\n",
    "# Execute the query and load the data into a pandas DataFrame\n",
    "df = pd.read_sql(query, conn)\n",
    "\n",
    "# Display the first few rows of the DataFrame\n",
    "print(df.head())\n",
    "\n",
    "# Close the connection to the SQLite database\n",
    "conn.close()\n"
   ]
  },
  {
   "cell_type": "markdown",
   "id": "f05cd94d",
   "metadata": {},
   "source": [
    "# Load Sales Table into DataFrame"
   ]
  },
  {
   "cell_type": "code",
   "execution_count": 10,
   "id": "d1eaf85d",
   "metadata": {},
   "outputs": [
    {
     "name": "stderr",
     "output_type": "stream",
     "text": [
      "                                                                                \r"
     ]
    },
    {
     "name": "stdout",
     "output_type": "stream",
     "text": [
      "+-------------+--------+----------+---------+-------+----------+----------+---------------+-----------+\n",
      "|TransactionID|SaleDate|CustomerID|ProductID|StoreID|CampaignID|SaleAmount|DiscountPercent|PaymentType|\n",
      "+-------------+--------+----------+---------+-------+----------+----------+---------------+-----------+\n",
      "|          550|  1/6/24|      1008|      102|    404|         0|      39.1|              5|     Credit|\n",
      "|          551|  1/6/24|      1009|      105|    403|         0|     19.78|             10|      Debit|\n",
      "|          552| 1/16/24|      1004|      107|    404|         0|     335.1|              0|      Debit|\n",
      "|          556| 1/29/24|      1009|      104|    403|         0|     172.4|              0|       Cash|\n",
      "|          558|  2/6/24|      1002|      102|    402|         0|     312.8|              5|       Cash|\n",
      "|          559|  2/6/24|      1001|      106|    401|         0|    622.86|             10|      Debit|\n",
      "|          561|  2/6/24|      1005|      107|    405|         0|    469.14|              0|     Credit|\n",
      "|          563|  2/8/24|      1006|      107|    406|         0|     67.02|             10|       Cash|\n",
      "|          564|  2/9/24|      1009|      107|    403|         0|    469.14|              5|       Cash|\n",
      "|          565|  2/9/24|      1002|      105|    402|         0|    138.46|              5|     Credit|\n",
      "|          566| 2/24/24|      1007|      103|    405|         0|    204.84|              5|      Debit|\n",
      "|          567| 2/24/24|      1007|      106|    405|         0|     444.9|             10|       Cash|\n",
      "|          568| 2/24/24|      1011|      107|    401|         0|    603.18|              5|     Credit|\n",
      "|          570| 2/27/24|      1010|      107|    402|         0|    402.12|             10|      Debit|\n",
      "|          572| 3/20/24|      1005|      105|    405|         0|    178.02|             10|     PayPal|\n",
      "|          575| 3/25/24|      1001|      108|    401|         0|     75.36|              5|       Cash|\n",
      "|          576|  4/7/24|      1001|      108|    401|         0|    113.04|              5|     Credit|\n",
      "|          579| 4/10/24|      1008|      106|    404|         0|    800.82|              0|      Debit|\n",
      "|          580| 4/11/24|      1004|      103|    404|         0|     22.76|              0|       Cash|\n",
      "|          581| 4/11/24|      1009|      101|    403|         0|    793.12|              0|     Credit|\n",
      "+-------------+--------+----------+---------+-------+----------+----------+---------------+-----------+\n",
      "only showing top 20 rows\n",
      "\n"
     ]
    }
   ],
   "source": [
    "import sqlite3\n",
    "import pandas as pd\n",
    "from pyspark.sql import SparkSession\n",
    "\n",
    "# Initialize Spark session\n",
    "spark = SparkSession.builder.appName(\"SmartSales\").getOrCreate()\n",
    "\n",
    "# Connect to SQLite database\n",
    "conn = sqlite3.connect('/Users/lindsayfoster/Projects/smart-store-foster/data/dw/smart_sales.db')\n",
    "\n",
    "# Load the 'sales' table into a Pandas DataFrame\n",
    "df_sales_pandas = pd.read_sql_query(\"SELECT * FROM sales\", conn)\n",
    "\n",
    "# Convert the Pandas DataFrame to a PySpark DataFrame\n",
    "df_sales_spark = spark.createDataFrame(df_sales_pandas)\n",
    "\n",
    "# Show the loaded data\n",
    "df_sales_spark.show()\n",
    "\n",
    "# Optionally, you can close the SQLite connection after use\n",
    "conn.close()\n",
    "\n",
    "# Stop the Spark session\n",
    "spark.stop()\n"
   ]
  },
  {
   "cell_type": "markdown",
   "id": "eb0f1a51",
   "metadata": {},
   "source": [
    "# Total Revenue per Customer Analysis"
   ]
  },
  {
   "cell_type": "code",
   "execution_count": 11,
   "id": "6251db4f",
   "metadata": {},
   "outputs": [
    {
     "name": "stderr",
     "output_type": "stream",
     "text": [
      "25/04/08 12:56:05 WARN Utils: Service 'SparkUI' could not bind on port 4040. Attempting port 4041.\n"
     ]
    },
    {
     "name": "stdout",
     "output_type": "stream",
     "text": [
      "root\n",
      " |-- TransactionID: long (nullable = true)\n",
      " |-- SaleDate: string (nullable = true)\n",
      " |-- CustomerID: long (nullable = true)\n",
      " |-- ProductID: long (nullable = true)\n",
      " |-- StoreID: long (nullable = true)\n",
      " |-- CampaignID: long (nullable = true)\n",
      " |-- SaleAmount: double (nullable = true)\n",
      " |-- DiscountPercent: long (nullable = true)\n",
      " |-- PaymentType: string (nullable = true)\n",
      "\n",
      "root\n",
      " |-- CustomerID: long (nullable = true)\n",
      " |-- Name: string (nullable = true)\n",
      " |-- Region: string (nullable = true)\n",
      " |-- JoinDate: string (nullable = true)\n",
      " |-- LoyaltyPoints: long (nullable = true)\n",
      " |-- CustomerSegment: string (nullable = true)\n",
      " |-- LastPurchaseDate: string (nullable = true)\n",
      "\n"
     ]
    },
    {
     "name": "stderr",
     "output_type": "stream",
     "text": [
      "                                                                                \r"
     ]
    },
    {
     "name": "stdout",
     "output_type": "stream",
     "text": [
      "+----------------+------------------+\n",
      "|            Name|       total_spent|\n",
      "+----------------+------------------+\n",
      "|          Dr Who|           3559.66|\n",
      "|   Susan Johnson|           2905.16|\n",
      "|       Dan Brown|           1897.54|\n",
      "|    Jason Bourne|           1806.34|\n",
      "|      Tony Stark|           1545.54|\n",
      "|    Wylie Coyote|1229.1399999999999|\n",
      "|Hermione Granger|           1226.22|\n",
      "|   William White|           1157.26|\n",
      "| Hermione Grager| 980.0799999999999|\n",
      "|       Chewbacca|            357.86|\n",
      "+----------------+------------------+\n",
      "\n",
      "               Name  total_spent\n",
      "0            Dr Who      3559.66\n",
      "1     Susan Johnson      2905.16\n",
      "2         Dan Brown      1897.54\n",
      "3      Jason Bourne      1806.34\n",
      "4        Tony Stark      1545.54\n",
      "5      Wylie Coyote      1229.14\n",
      "6  Hermione Granger      1226.22\n",
      "7     William White      1157.26\n",
      "8   Hermione Grager       980.08\n",
      "9         Chewbacca       357.86\n"
     ]
    },
    {
     "data": {
      "image/png": "[encoded data removed]",
      "text/plain": [
       "<Figure size 1000x600 with 1 Axes>"
      ]
     },
     "metadata": {},
     "output_type": "display_data"
    }
   ],
   "source": [
    "import sqlite3\n",
    "import pandas as pd\n",
    "from pyspark.sql import SparkSession\n",
    "\n",
    "# Start a Spark session\n",
    "spark = SparkSession.builder.appName(\"SmartSales\").getOrCreate()\n",
    "\n",
    "# Connect to the SQLite database\n",
    "db_path = \"/Users/lindsayfoster/Projects/smart-store-foster/data/dw/smart_sales.db\"\n",
    "conn = sqlite3.connect(db_path)\n",
    "\n",
    "# Load 'sales' table into a Pandas DataFrame\n",
    "df_sales_pd = pd.read_sql_query(\"SELECT * FROM sales\", conn)\n",
    "\n",
    "# Load 'customers' table into a Pandas DataFrame\n",
    "df_customer_pd = pd.read_sql_query(\"SELECT * FROM customers\", conn)\n",
    "\n",
    "# Close the SQLite connection\n",
    "conn.close()\n",
    "\n",
    "# Convert Pandas DataFrames to Spark DataFrames\n",
    "df_sales = spark.createDataFrame(df_sales_pd)\n",
    "df_customer = spark.createDataFrame(df_customer_pd)\n",
    "\n",
    "# Show schema to confirm the column names\n",
    "df_sales.printSchema()\n",
    "df_customer.printSchema()\n",
    "\n",
    "# Register DataFrames as temporary views for SQL queries\n",
    "df_sales.createOrReplaceTempView(\"sales\")\n",
    "df_customer.createOrReplaceTempView(\"customers\")\n",
    "\n",
    "# Write query using Spark SQL to get total revenue per customer\n",
    "df_top_customers = spark.sql(\"\"\"\n",
    "SELECT c.Name, SUM(s.SaleAmount) AS total_spent\n",
    "FROM sales s\n",
    "JOIN customers c ON s.CustomerID = c.CustomerID\n",
    "GROUP BY c.Name\n",
    "ORDER BY total_spent DESC\n",
    "\"\"\")\n",
    "\n",
    "# Show the results of the query\n",
    "df_top_customers.show()\n",
    "\n",
    "# Convert the result to Pandas for visualization\n",
    "df_top_customers_pd = df_top_customers.toPandas()\n",
    "\n",
    "# Review the Pandas DataFrame (for use in charts)\n",
    "print(df_top_customers_pd)\n",
    "\n",
    "# You can now use the Pandas DataFrame for visualization\n",
    "import matplotlib.pyplot as plt\n",
    "\n",
    "# Plot total revenue per customer\n",
    "plt.figure(figsize=(10, 6))\n",
    "plt.bar(df_top_customers_pd['Name'], df_top_customers_pd['total_spent'])\n",
    "plt.xlabel('Customer Name')\n",
    "plt.ylabel('Total Revenue')\n",
    "plt.title('Total Revenue per Customer')\n",
    "plt.xticks(rotation=90)  # Rotate customer names for better readability\n",
    "plt.show()\n"
   ]
  },
  {
   "cell_type": "markdown",
   "id": "1a793939",
   "metadata": {},
   "source": [
    "# Key Insights:\n",
    "Data Preparation: The code starts by extracting the sales and customer data from an SQLite database using Pandas and then converts them into Spark DataFrames for efficient processing.\n",
    "\n",
    "Revenue Calculation: The SQL query calculates the total revenue per customer by performing a join between the sales and customers tables, summing up the SaleAmount for each customer. The results are ordered by total spending, highlighting the top customers in terms of revenue.\n",
    "\n",
    "Visualization: Using Matplotlib, the code visualizes the total revenue per customer through a bar chart. This visualization provides an easy-to-read comparison of customers based on their spending, which is critical for identifying high-value customers and targeting them for promotions or loyalty programs.\n",
    "\n",
    "Business Insights:\n",
    "\n",
    "Customers like Dr. Who and Susan Johnson have contributed significantly more revenue compared to others.\n",
    "\n",
    "This analysis can be used to segment customers for personalized marketing strategies.\n",
    "\n",
    "The bar chart helps in understanding which customers are the highest revenue drivers and which may need further engagement to increase their spending.\n",
    "\n",
    "Further Exploration:\n",
    "Additional analysis could be done on factors like customer segments, loyalty points, or regions to understand spending patterns and optimize marketing strategies.\n",
    "\n",
    "The data could be enriched with time-based trends, such as analyzing revenue per customer by month to track changes in customer behavior over time.\n",
    "\n"
   ]
  },
  {
   "cell_type": "markdown",
   "id": "4e87d6ca",
   "metadata": {},
   "source": [
    "# Filtering Sales Data"
   ]
  },
  {
   "cell_type": "code",
   "execution_count": 12,
   "id": "ada1e7d6",
   "metadata": {},
   "outputs": [
    {
     "name": "stdout",
     "output_type": "stream",
     "text": [
      "+-------------+--------+----------+---------+-------+----------+----------+---------------+-----------+\n",
      "|TransactionID|SaleDate|CustomerID|ProductID|StoreID|CampaignID|SaleAmount|DiscountPercent|PaymentType|\n",
      "+-------------+--------+----------+---------+-------+----------+----------+---------------+-----------+\n",
      "+-------------+--------+----------+---------+-------+----------+----------+---------------+-----------+\n",
      "\n"
     ]
    }
   ],
   "source": [
    "from pyspark.sql import functions as F\n",
    "\n",
    "# 1. Convert SaleDate to date type with the M/DD/YY format\n",
    "df_sales = df_sales.withColumn(\n",
    "    \"SaleDate\", \n",
    "    F.to_date(F.date_format(df_sales[\"SaleDate\"], \"M/dd/yy\"), \"M/dd/yy\")\n",
    ")\n",
    "\n",
    "# 2. Define the filter date (January 1, 2023) using the M/DD/YY format\n",
    "# Since we want to filter using the date \"2023-01-01\" (in yyyy-MM-dd format),\n",
    "# we must make sure that the \"SaleDate\" column is also a date type, and the filter date is also properly formatted.\n",
    "filter_date = F.to_date(F.lit(\"1/1/23\"), \"M/d/yy\")\n",
    "\n",
    "# 3. Filter the sales data from January 1, 2023 onwards\n",
    "df_filtered = df_sales.filter(df_sales.SaleDate >= filter_date)\n",
    "\n",
    "# 4. Show the filtered data (optional, for verification)\n",
    "df_filtered.show()\n"
   ]
  },
  {
   "cell_type": "markdown",
   "id": "39d9d47b",
   "metadata": {},
   "source": [
    "The code demonstrates how to filter sales transactions in a PySpark DataFrame by a specific date range, focusing on sales data from January 1, 2023, onward. This is achieved by converting the SaleDate column to a date type, and applying a filter to isolate transactions after the specified date.\n",
    "\n"
   ]
  },
  {
   "cell_type": "markdown",
   "id": "cee7c7c8",
   "metadata": {},
   "source": [
    "# Filtering Sales Data Continued\n",
    "This code demonstrates three essential techniques in data analysis: slicing, dicing, and drilldown. These techniques allow for deeper exploration of sales data by filtering, grouping, and aggregating the data based on different criteria."
   ]
  },
  {
   "cell_type": "code",
   "execution_count": 13,
   "id": "823fbf29",
   "metadata": {},
   "outputs": [
    {
     "name": "stdout",
     "output_type": "stream",
     "text": [
      "+-------------+--------+----------+---------+-------+----------+----------+---------------+-----------+\n",
      "|TransactionID|SaleDate|CustomerID|ProductID|StoreID|CampaignID|SaleAmount|DiscountPercent|PaymentType|\n",
      "+-------------+--------+----------+---------+-------+----------+----------+---------------+-----------+\n",
      "+-------------+--------+----------+---------+-------+----------+----------+---------------+-----------+\n",
      "\n",
      "+---------+------+------------------+\n",
      "|ProductID|Region| total_sale_amount|\n",
      "+---------+------+------------------+\n",
      "|      102| North|             234.6|\n",
      "|      105| North|            336.26|\n",
      "|      103|  West|             22.76|\n",
      "|      103| South|            204.84|\n",
      "|      101|  West|           2379.36|\n",
      "|      108|  East|            615.44|\n",
      "|      105|  East|            178.02|\n",
      "|      106| North|1690.6200000000001|\n",
      "|      102| South|             195.5|\n",
      "|      105|  West|             19.78|\n",
      "|      107| North|           2412.72|\n",
      "|      103|  East|             45.52|\n",
      "|      107|  East|           1608.48|\n",
      "|      102|  East|             312.8|\n",
      "|      107| South|           1072.32|\n",
      "|      108| South|             125.6|\n",
      "|      104| South|             862.0|\n",
      "|      104|  East|            1120.6|\n",
      "|      106| South|             444.9|\n",
      "|      104| North|             431.0|\n",
      "+---------+------+------------------+\n",
      "only showing top 20 rows\n",
      "\n",
      "+----+-------+-----+-----------------+\n",
      "|Year|Quarter|Month|total_sale_amount|\n",
      "+----+-------+-----+-----------------+\n",
      "|NULL|   NULL| NULL|          17827.3|\n",
      "+----+-------+-----+-----------------+\n",
      "\n"
     ]
    }
   ],
   "source": [
    "from pyspark.sql import functions as F\n",
    "\n",
    "# Assuming df_sales is already a Spark DataFrame\n",
    "\n",
    "# 1. Slicing: Filter sales by date range (with date parsing fix)\n",
    "\n",
    "# Convert SaleDate (M/DD/YY) to proper Date format\n",
    "df_sales = df_sales.withColumn(\n",
    "    \"SaleDate\", \n",
    "    F.to_date(F.date_format(df_sales[\"SaleDate\"], \"M/dd/yy\"), \"M/dd/yy\")\n",
    ")\n",
    "\n",
    "# Define the date to filter by (January 1, 2023)\n",
    "filter_date = F.to_date(F.lit(\"2023-01-01\"), \"yyyy-MM-dd\")\n",
    "\n",
    "# Filter sales from January 1, 2023 onwards\n",
    "df_filtered = df_sales.filter(df_sales.SaleDate >= filter_date)\n",
    "\n",
    "# Show the filtered data (optional, for verification)\n",
    "df_filtered.show()\n",
    "\n",
    "# 2. Dicing: Group sales by product and region\n",
    "\n",
    "# Assuming you have a column named \"ProductID\" and \"Region\" in the customers table\n",
    "df_diced = df_sales.join(df_customer, df_sales.CustomerID == df_customer.CustomerID) \\\n",
    "    .groupBy(df_sales.ProductID, df_customer.Region) \\\n",
    "    .agg(F.sum(\"SaleAmount\").alias(\"total_sale_amount\"))\n",
    "\n",
    "# Show the result of dicing\n",
    "df_diced.show()\n",
    "\n",
    "# 3. Drilldown: Aggregate sales by year, quarter, and month\n",
    "\n",
    "# Extract year, quarter, and month from the SaleDate column\n",
    "df_drilled = df_sales.withColumn(\"Year\", F.year(df_sales.SaleDate)) \\\n",
    "    .withColumn(\"Quarter\", F.quarter(df_sales.SaleDate)) \\\n",
    "    .withColumn(\"Month\", F.month(df_sales.SaleDate))\n",
    "\n",
    "# Now group by Year, Quarter, and Month, then sum the SaleAmount\n",
    "df_drilled_aggregated = df_drilled.groupBy(\"Year\", \"Quarter\", \"Month\") \\\n",
    "    .agg(F.sum(\"SaleAmount\").alias(\"total_sale_amount\"))\n",
    "\n",
    "# Show the result of the drilldown\n",
    "df_drilled_aggregated.show()\n"
   ]
  },
  {
   "cell_type": "markdown",
   "id": "aa535003",
   "metadata": {},
   "source": [
    "Key Insights:\n",
    "Slicing: Filtering Data by Date\n",
    "\n",
    "The Slicing technique is used to isolate sales data from a specific date onward. In this case, the filter is applied to sales starting from January 1, 2023.\n",
    "\n",
    "Date Conversion: The code handles the conversion of SaleDate from the M/DD/YY format to a proper Date format to ensure accurate filtering.\n",
    "\n",
    "Business Insight: Filtering by date range helps businesses focus on more recent sales, which can be useful for analyzing the performance of recent promotions, campaigns, or changes in consumer behavior.\n",
    "\n",
    "Dicing: Grouping Data by Product and Region\n",
    "\n",
    "The Dicing technique allows for breaking down sales data by ProductID and Region.\n",
    "\n",
    "Aggregation: The data is grouped by product and region, and the total sales amount per group is calculated using the SUM() function.\n",
    "\n",
    "Business Insight: This technique is valuable for understanding which products perform best in which regions. For example, a business can identify regional product preferences and tailor inventory or marketing strategies to those specific areas.\n",
    "\n",
    "Drilldown: Aggregating Data by Year, Quarter, and Month\n",
    "\n",
    "The Drilldown technique aggregates sales data at multiple levels, including Year, Quarter, and Month.\n",
    "\n",
    "Time-Based Grouping: By extracting these time periods from the SaleDate column and then grouping by them, the code provides insights into how sales evolve over time.\n",
    "\n",
    "Business Insight: This level of aggregation helps businesses track performance over various time periods. By understanding quarterly or monthly sales trends, a business can forecast future performance, adjust strategies, and plan for seasonal variations.\n",
    "\n"
   ]
  },
  {
   "cell_type": "markdown",
   "id": "d4132ecb",
   "metadata": {},
   "source": [
    "# Separate Dicing"
   ]
  },
  {
   "cell_type": "code",
   "execution_count": 14,
   "id": "8fb7719a",
   "metadata": {},
   "outputs": [
    {
     "name": "stdout",
     "output_type": "stream",
     "text": [
      "+---------+------+------------------+\n",
      "|ProductID|Region| total_sale_amount|\n",
      "+---------+------+------------------+\n",
      "|      102| North|             234.6|\n",
      "|      105| North|            336.26|\n",
      "|      103|  West|             22.76|\n",
      "|      103| South|            204.84|\n",
      "|      101|  West|           2379.36|\n",
      "|      108|  East|            615.44|\n",
      "|      105|  East|            178.02|\n",
      "|      106| North|1690.6200000000001|\n",
      "|      102| South|             195.5|\n",
      "|      105|  West|             19.78|\n",
      "|      107| North|           2412.72|\n",
      "|      103|  East|             45.52|\n",
      "|      107|  East|           1608.48|\n",
      "|      102|  East|             312.8|\n",
      "|      107| South|           1072.32|\n",
      "|      108| South|             125.6|\n",
      "|      104| South|             862.0|\n",
      "|      104|  East|            1120.6|\n",
      "|      106| South|             444.9|\n",
      "|      104| North|             431.0|\n",
      "+---------+------+------------------+\n",
      "only showing top 20 rows\n",
      "\n"
     ]
    }
   ],
   "source": [
    "# Dicing: Group sales by product and region\n",
    "# Assuming you have a column named \"ProductID\" and the customer DataFrame has \"Region\"\n",
    "df_diced = df_sales.join(df_customer, df_sales.CustomerID == df_customer.CustomerID) \\\n",
    "    .groupBy(df_sales.ProductID, df_customer.Region) \\\n",
    "    .agg(F.sum(\"SaleAmount\").alias(\"total_sale_amount\"))\n",
    "\n",
    "# Show the result of dicing (grouped data)\n",
    "df_diced.show()\n"
   ]
  },
  {
   "cell_type": "markdown",
   "id": "6a57968d",
   "metadata": {},
   "source": [
    "# Separate Drilldown"
   ]
  },
  {
   "cell_type": "code",
   "execution_count": 15,
   "id": "77485033",
   "metadata": {},
   "outputs": [
    {
     "name": "stdout",
     "output_type": "stream",
     "text": [
      "+----+-------+-----+-----------------+\n",
      "|Year|Quarter|Month|total_sale_amount|\n",
      "+----+-------+-----+-----------------+\n",
      "|NULL|   NULL| NULL|          17827.3|\n",
      "+----+-------+-----+-----------------+\n",
      "\n"
     ]
    }
   ],
   "source": [
    "# Drilldown: Aggregate sales by year, quarter, and month\n",
    "# Extract year, quarter, and month from the SaleDate column\n",
    "df_drilled = df_sales.withColumn(\"Year\", F.year(df_sales.SaleDate)) \\\n",
    "    .withColumn(\"Quarter\", F.quarter(df_sales.SaleDate)) \\\n",
    "    .withColumn(\"Month\", F.month(df_sales.SaleDate))\n",
    "\n",
    "# Group by Year, Quarter, and Month, then sum the SaleAmount\n",
    "df_drilled_aggregated = df_drilled.groupBy(\"Year\", \"Quarter\", \"Month\") \\\n",
    "    .agg(F.sum(\"SaleAmount\").alias(\"total_sale_amount\"))\n",
    "\n",
    "# Show the result of the drilldown (aggregated data)\n",
    "df_drilled_aggregated.show()\n"
   ]
  },
  {
   "cell_type": "code",
   "execution_count": 16,
   "id": "87231809",
   "metadata": {},
   "outputs": [],
   "source": [
    "import seaborn as sns\n",
    "import matplotlib.pyplot as plt\n"
   ]
  },
  {
   "cell_type": "markdown",
   "id": "6ab165c4",
   "metadata": {},
   "source": [
    "# Top Customers Bar Chart"
   ]
  },
  {
   "cell_type": "code",
   "execution_count": 17,
   "id": "7a60c4db",
   "metadata": {},
   "outputs": [
    {
     "data": {
      "image/png": "[encoded data removed]",
      "text/plain": [
       "<Figure size 1200x600 with 1 Axes>"
      ]
     },
     "metadata": {},
     "output_type": "display_data"
    }
   ],
   "source": [
    "# Bar chart for Top Customers\n",
    "plt.figure(figsize=(12, 6))\n",
    "sns.barplot(data=df_top_customers_pd, x=\"Name\", y=\"total_spent\")  # Use the correct column name\n",
    "plt.title('Top Customers by Total Spending')\n",
    "plt.xlabel('Customer Name')\n",
    "plt.ylabel('Total Spending ($)')\n",
    "plt.xticks(rotation=45)  # Rotate the x-axis labels for readability\n",
    "plt.tight_layout()  # Ensure everything fits into the plot\n",
    "plt.show()\n"
   ]
  },
  {
   "cell_type": "markdown",
   "id": "073651b8",
   "metadata": {},
   "source": [
    "Chart Type: Bar Chart\n",
    "Purpose: To visualize the top customers based on their total spending.\n",
    "\n",
    "Observations:\n",
    "\n",
    "X-Axis: Represents the names of customers. It's essential that customer names are presented clearly.\n",
    "\n",
    "Y-Axis: Represents the total spending by each customer. A higher bar indicates a larger total spent by the customer.\n",
    "\n",
    "Chart Insights: The chart gives an immediate view of which customers are contributing the most revenue to the business. Dr. Who is at the top while Chewbacca is at the bottom."
   ]
  },
  {
   "cell_type": "markdown",
   "id": "4187acb7",
   "metadata": {},
   "source": [
    "# Sales Trends Line Chart"
   ]
  },
  {
   "cell_type": "code",
   "execution_count": 18,
   "id": "36a16b92",
   "metadata": {},
   "outputs": [
    {
     "data": {
      "image/png": "[encoded data removed]",
      "text/plain": [
       "<Figure size 1200x600 with 1 Axes>"
      ]
     },
     "metadata": {},
     "output_type": "display_data"
    },
    {
     "name": "stderr",
     "output_type": "stream",
     "text": [
      "25/04/08 12:56:17 WARN GarbageCollectionMetrics: To enable non-built-in garbage collector(s) List(G1 Concurrent GC), users should configure it(them) to spark.eventLog.gcMetrics.youngGenerationGarbageCollectors or spark.eventLog.gcMetrics.oldGenerationGarbageCollectors\n"
     ]
    }
   ],
   "source": [
    "# First, ensure that SaleDate is in datetime format using the correct format (M/dd/YY)\n",
    "df_sales_pd['SaleDate'] = pd.to_datetime(df_sales_pd['SaleDate'], format='%m/%d/%y', errors='coerce')\n",
    "\n",
    "# Make sure SaleAmount is numeric, converting invalid values to NaN\n",
    "df_sales_pd['SaleAmount'] = pd.to_numeric(df_sales_pd['SaleAmount'], errors='coerce')\n",
    "\n",
    "# Drop rows with invalid SaleAmount or SaleDate (if any)\n",
    "df_sales_pd.dropna(subset=['SaleDate', 'SaleAmount'], inplace=True)\n",
    "\n",
    "# Now, aggregate sales data by month using period ('M' for monthly)\n",
    "df_sales_pd['Month'] = df_sales_pd['SaleDate'].dt.to_period('M')\n",
    "\n",
    "# Group by the Month period and aggregate the SaleAmount by sum\n",
    "df_sales_monthly = df_sales_pd.groupby('Month').agg({'SaleAmount': 'sum'}).reset_index()\n",
    "\n",
    "# Convert the 'Month' column back to Timestamp for proper plotting\n",
    "df_sales_monthly['Month'] = df_sales_monthly['Month'].dt.to_timestamp()\n",
    "\n",
    "# Now, create the line chart\n",
    "plt.figure(figsize=(12, 6))\n",
    "sns.lineplot(data=df_sales_monthly, x='Month', y='SaleAmount')\n",
    "plt.title('Sales Trends Over Time')\n",
    "plt.xlabel('Month')\n",
    "plt.ylabel('Total Sales Amount ($)')\n",
    "plt.xticks(rotation=45)  # Rotate date labels for better readability\n",
    "plt.tight_layout()\n",
    "plt.show()\n"
   ]
  },
  {
   "cell_type": "markdown",
   "id": "58750564",
   "metadata": {},
   "source": [
    "Chart Type: Line Chart\n",
    "Purpose: To observe sales trends over time and identify any seasonal patterns or growth trends.\n",
    "\n",
    "Observations:\n",
    "\n",
    "X-Axis: Represents time, broken down by month (using SaleDate). This ensures that the trend is observable over time.\n",
    "\n",
    "Y-Axis: Represents the total sales amount for each month. The line shows how the sales amount fluctuated over time.\n",
    "\n",
    "Chart Insights:\n",
    "\n",
    "The line chart shows that the sales trend has gone up and down consistently. \n",
    "\n",
    "Peaks and valleys in the line could correlate with marketing campaigns, product launches, holidays, or other business events.\n",
    "\n",
    "It’s easy to spot outliers, such as a sudden drop or spike in sales, which could be an opportunity for deeper analysis (e.g., checking if it was a promotional period)."
   ]
  }
 ],
 "metadata": {
  "kernelspec": {
   "display_name": ".venv",
   "language": "python",
   "name": "python3"
  },
  "language_info": {
   "codemirror_mode": {
    "name": "ipython",
    "version": 3
   },
   "file_extension": ".py",
   "mimetype": "text/x-python",
   "name": "python",
   "nbconvert_exporter": "python",
   "pygments_lexer": "ipython3",
   "version": "3.13.1"
  }
 },
 "nbformat": 4,
 "nbformat_minor": 5
}
